{
 "cells": [
  {
   "cell_type": "code",
   "execution_count": 1,
   "metadata": {
    "collapsed": false
   },
   "outputs": [],
   "source": [
    "%load_ext autoreload\n",
    "%autoreload 2\n",
    "from nram import *\n",
    "from opt import *\n",
    "from gate import *\n",
    "from data import *\n",
    "from nnet import *"
   ]
  },
  {
   "cell_type": "code",
   "execution_count": 2,
   "metadata": {
    "collapsed": false
   },
   "outputs": [],
   "source": [
    "import numpy as np\n",
    "import theano"
   ]
  },
  {
   "cell_type": "code",
   "execution_count": 3,
   "metadata": {
    "collapsed": true
   },
   "outputs": [],
   "source": [
    "theano.config.optimizer = 'fast_run'"
   ]
  },
  {
   "cell_type": "code",
   "execution_count": 4,
   "metadata": {
    "collapsed": true
   },
   "outputs": [],
   "source": [
    "num_registers = 2\n",
    "num_timesteps = 2\n",
    "max_int = 10\n",
    "gates = [one, zero, add, write, read]\n",
    "gate_names = [\"1\", \"0\", \"Write\", \"Read\"]"
   ]
  },
  {
   "cell_type": "code",
   "execution_count": 5,
   "metadata": {
    "collapsed": false
   },
   "outputs": [],
   "source": [
    "## Goal task: delete the first character from a null-terminated string.\n",
    "\n",
    "## Task 1: Check whether the first character is a null-terminator.\n",
    "## Task 3: Shift all characters over until the null terminator\n",
    "def task_one(max_int, batch_size):\n",
    "    # Create a random initial memory.\n",
    "    init_mem = np.random.randint(0, max_int, size=(batch_size, max_int), dtype=np.int32)\n",
    "    \n",
    "    # Seed half of it with input zeros.\n",
    "    seed = np.random.choice([0, 1], size=(batch_size, 1), p=[0.44, 0.56])\n",
    "    init_mem[:, 0] *= seed[:, 0]\n",
    "    \n",
    "    # Generate an output.\n",
    "    out_mem = init_mem.copy()\n",
    "    out_mem[:, 1] = np.where(init_mem[:, 0] == 0, 1, 0)\n",
    "    \n",
    "    return init_mem, out_mem\n",
    "\n",
    "## Task 2: Find the null terminator.\n",
    "def task_two(max_int, batch_size):\n",
    "    # Create a random initial memory.\n",
    "    init_mem = np.random.randint(1, max_int, size=(batch_size, max_int), dtype=np.int32)\n",
    "    \n",
    "    # Choose where to put the zeros.\n",
    "    locs = np.random.choice(range(min(num_timesteps - 1, max_int - 1)), size=(batch_size, ))\n",
    "    init_mem[np.arange(batch_size), locs] = 0\n",
    "    \n",
    "    # Generate an output.\n",
    "    out_mem = init_mem.copy()\n",
    "    out_mem[np.arange(batch_size), locs + 1] = 1\n",
    "    \n",
    "    return init_mem, out_mem\n",
    "\n",
    "def generate_batch(max_int, batch_size=1000, entropy=0.1, entropy_decay=0.999):\n",
    "    def make_batch(timestep):\n",
    "        entropy_weight = entropy * entropy_decay ** timestep\n",
    "        entropy_weight = 0.0\n",
    "        init_mem, out_mem = task_one(max_int, batch_size)\n",
    "        cost_mask = np.ones((batch_size, max_int), dtype=np.int8)\n",
    "        return encode(init_mem, max_int), out_mem, cost_mask, entropy_weight\n",
    "    return make_batch"
   ]
  },
  {
   "cell_type": "code",
   "execution_count": 6,
   "metadata": {
    "collapsed": false
   },
   "outputs": [],
   "source": [
    "layer_sizes = []\n",
    "params = list(mlp_weights(num_registers, layer_sizes, gates))\n",
    "\n",
    "reg_lambda = 0\n",
    "result = run(gates, num_registers, max_int, num_timesteps, len(layer_sizes), reg_lambda, params)\n",
    "debug, init_mem, desired_mem, cost_mask, final_mem, final_cost, entropy_weight = result\n",
    "\n",
    "gradients = theano.grad(final_cost, params)\n",
    "train = theano.function([init_mem, desired_mem, cost_mask, entropy_weight], [final_cost] + gradients)\n",
    "predict = theano.function([init_mem], final_mem)\n",
    "\n",
    "keys = list(debug.keys())\n",
    "values = [debug[k] for k in keys]\n",
    "predict_instrumented = theano.function([init_mem, desired_mem, cost_mask, entropy_weight], values)\n",
    "def predict_debug(*args):\n",
    "    return dict(zip(keys, predict_instrumented(*args)))"
   ]
  },
  {
   "cell_type": "code",
   "execution_count": 869,
   "metadata": {
    "collapsed": false,
    "scrolled": true
   },
   "outputs": [
    {
     "name": "stdout",
     "output_type": "stream",
     "text": [
      "Cost (t =    0): \t2856.09\n",
      "Cost (t =  100): \t2636.21\n",
      "Cost (t =  200): \t2333.77\n",
      "Cost (t =  300): \t2079.60\n",
      "Cost (t =  400): \t1802.07\n",
      "Cost (t =  500): \t1571.54\n",
      "Cost (t =  600): \t1343.44\n",
      "Cost (t =  700): \t1143.21\n",
      "Cost (t =  800): \t982.25\n",
      "Cost (t =  900): \t865.61\n",
      "Cost (t = 1000): \t785.96\n",
      "Cost (t = 1100): \t739.75\n",
      "Cost (t = 1200): \t715.50\n",
      "Cost (t = 1300): \t704.61\n",
      "Cost (t = 1400): \t700.32\n",
      "Cost (t = 1500): \t697.40\n",
      "Cost (t = 1600): \t696.27\n",
      "Cost (t = 1668): \t696.30\n"
     ]
    }
   ],
   "source": [
    "adam_optimize(params, generate_batch(max_int), train)"
   ]
  },
  {
   "cell_type": "code",
   "execution_count": 780,
   "metadata": {
    "collapsed": false
   },
   "outputs": [
    {
     "data": {
      "text/plain": [
       "10.0"
      ]
     },
     "execution_count": 780,
     "metadata": {},
     "output_type": "execute_result"
    }
   ],
   "source": [
    "b = generate_batch(max_int)\n",
    "inputs, outputs, mask = b(1500)\n",
    "percent_correct(predict, inputs, outputs)"
   ]
  },
  {
   "cell_type": "code",
   "execution_count": 785,
   "metadata": {
    "collapsed": false
   },
   "outputs": [
    {
     "data": {
      "text/plain": [
       "array([0, 6, 5, 8, 1, 3, 7, 4, 1, 4])"
      ]
     },
     "execution_count": 785,
     "metadata": {},
     "output_type": "execute_result"
    }
   ],
   "source": [
    "inputs[0, :, :].argmax(axis=1)"
   ]
  },
  {
   "cell_type": "code",
   "execution_count": 782,
   "metadata": {
    "collapsed": false
   },
   "outputs": [
    {
     "data": {
      "text/plain": [
       "array([0, 1, 5, 8, 1, 3, 7, 4, 1, 4], dtype=int32)"
      ]
     },
     "execution_count": 782,
     "metadata": {},
     "output_type": "execute_result"
    }
   ],
   "source": [
    "outputs[0, :]"
   ]
  },
  {
   "cell_type": "code",
   "execution_count": 718,
   "metadata": {
    "collapsed": false
   },
   "outputs": [],
   "source": [
    "r = predict_debug(inputs, outputs, mask)"
   ]
  },
  {
   "cell_type": "code",
   "execution_count": 732,
   "metadata": {
    "collapsed": true
   },
   "outputs": [],
   "source": [
    "def inspect(debug, sample, num_timesteps, num_registers, gate_names, gates):\n",
    "    \"\"\"Utility for inspecting the result of the network.\"\"\"\n",
    "    \n",
    "    def get(name, timestep):\n",
    "        return debug[\"%d:%s\" % (timestep, name)][sample, :].argmax()\n",
    "    \n",
    "    def fmt(i):\n",
    "        if i in range(num_registers):\n",
    "            return \"R\" + str(i + 1)\n",
    "        else:\n",
    "            return \"G\" + str(i - num_registers)\n",
    "        \n",
    "    output = \"\"\n",
    "    output += \"Init: %s\\n\" % debug[\"0:gate-mem-0\"][sample, :, :].argmax(axis=1)\n",
    "    for timestep in range(num_timesteps):\n",
    "        output += \"Timestep %d:\\n\" % timestep\n",
    "        for r in range(num_registers):\n",
    "            src = fmt(get(\"coeff-reg-%d\" % r, timestep))\n",
    "            val = get(\"reg-%d\" % r, timestep)\n",
    "            output += \"\\tR%d' = %s\\t\\t%d\\n\" % (r, src, val)\n",
    "        for g, (name, gate) in enumerate(zip(gate_names, gates)):\n",
    "            src = \", \".join(fmt(get(\"coeff-gate-%d/%d\" % (g, a), timestep)) for a in range(gate.arity))\n",
    "            val = get(\"gate-out-%d\" % g, timestep)\n",
    "            output += \"\\tG%d' = %s(%s)\\t\\t%d\\n\" % (g, name, src, val)\n",
    "        output += \"\\tComplete -> %.3f\\n\" % debug[\"%d:complete\" % timestep][sample, 0]\n",
    "        output += \"\\tMem -> %s\\n\" % str(debug[\"%d:gate-mem-%d\" % (timestep, g)][sample, :, :].argmax(axis=1))\n",
    "    return output"
   ]
  },
  {
   "cell_type": "code",
   "execution_count": 759,
   "metadata": {
    "collapsed": false
   },
   "outputs": [
    {
     "name": "stdout",
     "output_type": "stream",
     "text": [
      "Init: [4 8 8 2 2 7 2 5 9 8]\n",
      "Timestep 0:\n",
      "\tR0' = G1\t\t0\n",
      "\tR1' = G3\t\t4\n",
      "\tG0' = 1()\t\t1\n",
      "\tG1' = 0()\t\t0\n",
      "\tG2' = Write(G0, G0)\t\t1\n",
      "\tG3' = Read(R2)\t\t4\n",
      "\tComplete -> 0.000\n",
      "\tMem -> [4 1 8 2 2 7 2 5 9 8]\n",
      "Timestep 1:\n",
      "\tR0' = G1\t\t0\n",
      "\tR1' = G3\t\t2\n",
      "\tG0' = 1()\t\t1\n",
      "\tG1' = 0()\t\t0\n",
      "\tG2' = Write(G0, G1)\t\t0\n",
      "\tG3' = Read(R2)\t\t2\n",
      "\tComplete -> 0.000\n",
      "\tMem -> [4 0 8 2 2 7 2 5 9 8]\n",
      "\n"
     ]
    }
   ],
   "source": [
    "x += 1\n",
    "print(inspect(r, x, num_timesteps, num_registers, gate_names, gates))"
   ]
  }
 ],
 "metadata": {
  "kernelspec": {
   "display_name": "Python 3",
   "language": "python",
   "name": "python3"
  },
  "language_info": {
   "codemirror_mode": {
    "name": "ipython",
    "version": 3
   },
   "file_extension": ".py",
   "mimetype": "text/x-python",
   "name": "python",
   "nbconvert_exporter": "python",
   "pygments_lexer": "ipython3",
   "version": "3.5.0"
  }
 },
 "nbformat": 4,
 "nbformat_minor": 0
}
